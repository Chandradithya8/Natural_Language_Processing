{
  "nbformat": 4,
  "nbformat_minor": 0,
  "metadata": {
    "colab": {
      "name": "Tokenization.ipynb",
      "provenance": [],
      "collapsed_sections": [],
      "authorship_tag": "ABX9TyOEEfJACfsCgAwPU4Iq1hj/",
      "include_colab_link": true
    },
    "kernelspec": {
      "name": "python3",
      "display_name": "Python 3"
    }
  },
  "cells": [
    {
      "cell_type": "markdown",
      "metadata": {
        "id": "view-in-github",
        "colab_type": "text"
      },
      "source": [
        "<a href=\"https://colab.research.google.com/github/Chandradithya8/Natural_Language_Processing/blob/main/Tokenization.ipynb\" target=\"_parent\"><img src=\"https://colab.research.google.com/assets/colab-badge.svg\" alt=\"Open In Colab\"/></a>"
      ]
    },
    {
      "cell_type": "code",
      "metadata": {
        "id": "pHivUijDVwbq"
      },
      "source": [
        "import nltk"
      ],
      "execution_count": null,
      "outputs": []
    },
    {
      "cell_type": "code",
      "metadata": {
        "id": "OWhN184PWQ9n"
      },
      "source": [
        "paragraph=\"\"\"Firebase evolved from Envolve, a prior startup founded by James Tamplin and Andrew Lee in 2011. Envolve provided developers an API\n",
        " that enables the integration of online chat functionality into their websites. After releasing the chat service, Tamplin and Lee found that it \n",
        " was being used to pass application data that were not chat messages. Developers were using Envolve to sync application data such as game state \n",
        " in real time across their users. Tamplin and Lee decided to separate the chat system and the real-time architecture that powered it.[3] They \n",
        " founded Firebase as a separate company in September 2011[4] and it launched to the public in April 2012.[5]\n",
        "Firebase's first product was the Firebase Realtime Database, an API that synchronizes application data across\n",
        " iOS, Android, and Web devices, and stores it on Firebase's cloud. The product assists software developers in building\n",
        "  real-time, collaborative applications. \"\"\""
      ],
      "execution_count": null,
      "outputs": []
    },
    {
      "cell_type": "code",
      "metadata": {
        "colab": {
          "base_uri": "https://localhost:8080/"
        },
        "id": "ddXrjComWyHy",
        "outputId": "5b547594-3d85-4d87-8c42-510d79ce7dde"
      },
      "source": [
        "# Tokenizing sentences\n",
        "sentences=nltk.sent_tokenize(paragraph)\n",
        "sentences"
      ],
      "execution_count": null,
      "outputs": [
        {
          "output_type": "execute_result",
          "data": {
            "text/plain": [
              "['Firebase evolved from Envolve, a prior startup founded by James Tamplin and Andrew Lee in 2011.',\n",
              " 'Envolve provided developers an API\\n that enables the integration of online chat functionality into their websites.',\n",
              " 'After releasing the chat service, Tamplin and Lee found that it \\n was being used to pass application data that were not chat messages.',\n",
              " 'Developers were using Envolve to sync application data such as game state \\n in real time across their users.',\n",
              " 'Tamplin and Lee decided to separate the chat system and the real-time architecture that powered it.',\n",
              " '[3] They \\n founded Firebase as a separate company in September 2011[4] and it launched to the public in April 2012.',\n",
              " \"[5]\\nFirebase's first product was the Firebase Realtime Database, an API that synchronizes application data across\\n iOS, Android, and Web devices, and stores it on Firebase's cloud.\",\n",
              " 'The product assists software developers in building\\n  real-time, collaborative applications.']"
            ]
          },
          "metadata": {
            "tags": []
          },
          "execution_count": 3
        }
      ]
    },
    {
      "cell_type": "code",
      "metadata": {
        "colab": {
          "base_uri": "https://localhost:8080/"
        },
        "id": "62njG7TwW40g",
        "outputId": "cfc78837-a970-49ee-b831-5900004d7bc6"
      },
      "source": [
        "# Tokenizing words\n",
        "words=nltk.word_tokenize(paragraph)\n",
        "words"
      ],
      "execution_count": null,
      "outputs": [
        {
          "output_type": "execute_result",
          "data": {
            "text/plain": [
              "['Firebase',\n",
              " 'evolved',\n",
              " 'from',\n",
              " 'Envolve',\n",
              " ',',\n",
              " 'a',\n",
              " 'prior',\n",
              " 'startup',\n",
              " 'founded',\n",
              " 'by',\n",
              " 'James',\n",
              " 'Tamplin',\n",
              " 'and',\n",
              " 'Andrew',\n",
              " 'Lee',\n",
              " 'in',\n",
              " '2011',\n",
              " '.',\n",
              " 'Envolve',\n",
              " 'provided',\n",
              " 'developers',\n",
              " 'an',\n",
              " 'API',\n",
              " 'that',\n",
              " 'enables',\n",
              " 'the',\n",
              " 'integration',\n",
              " 'of',\n",
              " 'online',\n",
              " 'chat',\n",
              " 'functionality',\n",
              " 'into',\n",
              " 'their',\n",
              " 'websites',\n",
              " '.',\n",
              " 'After',\n",
              " 'releasing',\n",
              " 'the',\n",
              " 'chat',\n",
              " 'service',\n",
              " ',',\n",
              " 'Tamplin',\n",
              " 'and',\n",
              " 'Lee',\n",
              " 'found',\n",
              " 'that',\n",
              " 'it',\n",
              " 'was',\n",
              " 'being',\n",
              " 'used',\n",
              " 'to',\n",
              " 'pass',\n",
              " 'application',\n",
              " 'data',\n",
              " 'that',\n",
              " 'were',\n",
              " 'not',\n",
              " 'chat',\n",
              " 'messages',\n",
              " '.',\n",
              " 'Developers',\n",
              " 'were',\n",
              " 'using',\n",
              " 'Envolve',\n",
              " 'to',\n",
              " 'sync',\n",
              " 'application',\n",
              " 'data',\n",
              " 'such',\n",
              " 'as',\n",
              " 'game',\n",
              " 'state',\n",
              " 'in',\n",
              " 'real',\n",
              " 'time',\n",
              " 'across',\n",
              " 'their',\n",
              " 'users',\n",
              " '.',\n",
              " 'Tamplin',\n",
              " 'and',\n",
              " 'Lee',\n",
              " 'decided',\n",
              " 'to',\n",
              " 'separate',\n",
              " 'the',\n",
              " 'chat',\n",
              " 'system',\n",
              " 'and',\n",
              " 'the',\n",
              " 'real-time',\n",
              " 'architecture',\n",
              " 'that',\n",
              " 'powered',\n",
              " 'it',\n",
              " '.',\n",
              " '[',\n",
              " '3',\n",
              " ']',\n",
              " 'They',\n",
              " 'founded',\n",
              " 'Firebase',\n",
              " 'as',\n",
              " 'a',\n",
              " 'separate',\n",
              " 'company',\n",
              " 'in',\n",
              " 'September',\n",
              " '2011',\n",
              " '[',\n",
              " '4',\n",
              " ']',\n",
              " 'and',\n",
              " 'it',\n",
              " 'launched',\n",
              " 'to',\n",
              " 'the',\n",
              " 'public',\n",
              " 'in',\n",
              " 'April',\n",
              " '2012',\n",
              " '.',\n",
              " '[',\n",
              " '5',\n",
              " ']',\n",
              " 'Firebase',\n",
              " \"'s\",\n",
              " 'first',\n",
              " 'product',\n",
              " 'was',\n",
              " 'the',\n",
              " 'Firebase',\n",
              " 'Realtime',\n",
              " 'Database',\n",
              " ',',\n",
              " 'an',\n",
              " 'API',\n",
              " 'that',\n",
              " 'synchronizes',\n",
              " 'application',\n",
              " 'data',\n",
              " 'across',\n",
              " 'iOS',\n",
              " ',',\n",
              " 'Android',\n",
              " ',',\n",
              " 'and',\n",
              " 'Web',\n",
              " 'devices',\n",
              " ',',\n",
              " 'and',\n",
              " 'stores',\n",
              " 'it',\n",
              " 'on',\n",
              " 'Firebase',\n",
              " \"'s\",\n",
              " 'cloud',\n",
              " '.',\n",
              " 'The',\n",
              " 'product',\n",
              " 'assists',\n",
              " 'software',\n",
              " 'developers',\n",
              " 'in',\n",
              " 'building',\n",
              " 'real-time',\n",
              " ',',\n",
              " 'collaborative',\n",
              " 'applications',\n",
              " '.']"
            ]
          },
          "metadata": {
            "tags": []
          },
          "execution_count": 4
        }
      ]
    }
  ]
}