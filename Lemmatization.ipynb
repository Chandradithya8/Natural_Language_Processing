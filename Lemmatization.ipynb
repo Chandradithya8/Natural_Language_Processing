{
  "nbformat": 4,
  "nbformat_minor": 0,
  "metadata": {
    "colab": {
      "name": "Lemmatization.ipynb",
      "provenance": [],
      "collapsed_sections": [],
      "authorship_tag": "ABX9TyOb7+wjxbhTZA/oL1qvesMg",
      "include_colab_link": true
    },
    "kernelspec": {
      "name": "python3",
      "display_name": "Python 3"
    }
  },
  "cells": [
    {
      "cell_type": "markdown",
      "metadata": {
        "id": "view-in-github",
        "colab_type": "text"
      },
      "source": [
        "<a href=\"https://colab.research.google.com/github/Chandradithya8/Natural_Language_Processing/blob/main/Lemmatization.ipynb\" target=\"_parent\"><img src=\"https://colab.research.google.com/assets/colab-badge.svg\" alt=\"Open In Colab\"/></a>"
      ]
    },
    {
      "cell_type": "code",
      "metadata": {
        "colab": {
          "base_uri": "https://localhost:8080/"
        },
        "id": "WUC4ZBNvQrL0",
        "outputId": "bc32e5ec-930a-4d26-fc09-1508e94720a5"
      },
      "source": [
        "import nltk\n",
        "nltk.download('punkt')\n",
        "nltk.download('wordnet')\n",
        "nltk.download('stopwords')\n",
        "from nltk.corpus import stopwords\n",
        "from nltk.stem import WordNetLemmatizer"
      ],
      "execution_count": null,
      "outputs": [
        {
          "output_type": "stream",
          "text": [
            "[nltk_data] Downloading package punkt to /root/nltk_data...\n",
            "[nltk_data]   Package punkt is already up-to-date!\n",
            "[nltk_data] Downloading package wordnet to /root/nltk_data...\n",
            "[nltk_data]   Unzipping corpora/wordnet.zip.\n",
            "[nltk_data] Downloading package stopwords to /root/nltk_data...\n",
            "[nltk_data]   Package stopwords is already up-to-date!\n"
          ],
          "name": "stdout"
        }
      ]
    },
    {
      "cell_type": "code",
      "metadata": {
        "id": "aW0-6agmSEEP"
      },
      "source": [
        "paragraph=\"\"\" Firebase evolved from Envolve, a prior startup founded by James Tamplin and Andrew Lee in 2011. Envolve provided developers an API\n",
        " that enables the integration of online chat functionality into their websites. After releasing the chat service, Tamplin and Lee found that it \n",
        " was being used to pass application data that were not chat messages. Developers were using Envolve to sync application data such as game state \n",
        " in real time across their users. Tamplin and Lee decided to separate the chat system and the real-time architecture that powered it.[3] They \n",
        " founded Firebase as a separate company in September 2011[4] and it launched to the public in April 2012.[5]\n",
        "Firebase's first product was the Firebase Realtime Database, an API that synchronizes application data across\n",
        " iOS, Android, and Web devices, and stores it on Firebase's cloud. The product assists software developers in building\n",
        "  real-time, collaborative applications.\"\"\""
      ],
      "execution_count": null,
      "outputs": []
    },
    {
      "cell_type": "code",
      "metadata": {
        "id": "TBzyL6SNSIOz"
      },
      "source": [
        "words=nltk.word_tokenize(paragraph)\n",
        "lemmatize=WordNetLemmatizer()"
      ],
      "execution_count": null,
      "outputs": []
    },
    {
      "cell_type": "code",
      "metadata": {
        "id": "qshjPpLCS0dS"
      },
      "source": [
        "stop=stopwords.words('english')"
      ],
      "execution_count": null,
      "outputs": []
    },
    {
      "cell_type": "code",
      "metadata": {
        "colab": {
          "base_uri": "https://localhost:8080/"
        },
        "id": "PCnfn2BUSYPj",
        "outputId": "60f1a50e-7266-4285-9bbc-9839e3e7a8ef"
      },
      "source": [
        "final=[]\n",
        "for w in words:\n",
        "  if w not in stop:\n",
        "    w=lemmatize.lemmatize(w)\n",
        "    final.append(w)\n",
        "print(words)    \n",
        "print(final)"
      ],
      "execution_count": null,
      "outputs": [
        {
          "output_type": "stream",
          "text": [
            "['Firebase', 'evolved', 'from', 'Envolve', ',', 'a', 'prior', 'startup', 'founded', 'by', 'James', 'Tamplin', 'and', 'Andrew', 'Lee', 'in', '2011', '.', 'Envolve', 'provided', 'developers', 'an', 'API', 'that', 'enables', 'the', 'integration', 'of', 'online', 'chat', 'functionality', 'into', 'their', 'websites', '.', 'After', 'releasing', 'the', 'chat', 'service', ',', 'Tamplin', 'and', 'Lee', 'found', 'that', 'it', 'was', 'being', 'used', 'to', 'pass', 'application', 'data', 'that', 'were', 'not', 'chat', 'messages', '.', 'Developers', 'were', 'using', 'Envolve', 'to', 'sync', 'application', 'data', 'such', 'as', 'game', 'state', 'in', 'real', 'time', 'across', 'their', 'users', '.', 'Tamplin', 'and', 'Lee', 'decided', 'to', 'separate', 'the', 'chat', 'system', 'and', 'the', 'real-time', 'architecture', 'that', 'powered', 'it', '.', '[', '3', ']', 'They', 'founded', 'Firebase', 'as', 'a', 'separate', 'company', 'in', 'September', '2011', '[', '4', ']', 'and', 'it', 'launched', 'to', 'the', 'public', 'in', 'April', '2012', '.', '[', '5', ']', 'Firebase', \"'s\", 'first', 'product', 'was', 'the', 'Firebase', 'Realtime', 'Database', ',', 'an', 'API', 'that', 'synchronizes', 'application', 'data', 'across', 'iOS', ',', 'Android', ',', 'and', 'Web', 'devices', ',', 'and', 'stores', 'it', 'on', 'Firebase', \"'s\", 'cloud', '.', 'The', 'product', 'assists', 'software', 'developers', 'in', 'building', 'real-time', ',', 'collaborative', 'applications', '.']\n",
            "['Firebase', 'evolved', 'Envolve', ',', 'prior', 'startup', 'founded', 'James', 'Tamplin', 'Andrew', 'Lee', '2011', '.', 'Envolve', 'provided', 'developer', 'API', 'enables', 'integration', 'online', 'chat', 'functionality', 'website', '.', 'After', 'releasing', 'chat', 'service', ',', 'Tamplin', 'Lee', 'found', 'used', 'pas', 'application', 'data', 'chat', 'message', '.', 'Developers', 'using', 'Envolve', 'sync', 'application', 'data', 'game', 'state', 'real', 'time', 'across', 'user', '.', 'Tamplin', 'Lee', 'decided', 'separate', 'chat', 'system', 'real-time', 'architecture', 'powered', '.', '[', '3', ']', 'They', 'founded', 'Firebase', 'separate', 'company', 'September', '2011', '[', '4', ']', 'launched', 'public', 'April', '2012', '.', '[', '5', ']', 'Firebase', \"'s\", 'first', 'product', 'Firebase', 'Realtime', 'Database', ',', 'API', 'synchronizes', 'application', 'data', 'across', 'iOS', ',', 'Android', ',', 'Web', 'device', ',', 'store', 'Firebase', \"'s\", 'cloud', '.', 'The', 'product', 'assist', 'software', 'developer', 'building', 'real-time', ',', 'collaborative', 'application', '.']\n"
          ],
          "name": "stdout"
        }
      ]
    },
    {
      "cell_type": "code",
      "metadata": {
        "id": "_JLmPe4JSRyj"
      },
      "source": [
        ""
      ],
      "execution_count": null,
      "outputs": []
    }
  ]
}