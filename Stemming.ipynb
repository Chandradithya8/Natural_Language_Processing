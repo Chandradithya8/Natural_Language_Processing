{
  "nbformat": 4,
  "nbformat_minor": 0,
  "metadata": {
    "colab": {
      "name": "Stemming.ipynb",
      "provenance": [],
      "collapsed_sections": [],
      "authorship_tag": "ABX9TyNcVSPtZIddBXF45QWevXFk",
      "include_colab_link": true
    },
    "kernelspec": {
      "name": "python3",
      "display_name": "Python 3"
    }
  },
  "cells": [
    {
      "cell_type": "markdown",
      "metadata": {
        "id": "view-in-github",
        "colab_type": "text"
      },
      "source": [
        "<a href=\"https://colab.research.google.com/github/Chandradithya8/Natural_Language_Processing/blob/main/Stemming.ipynb\" target=\"_parent\"><img src=\"https://colab.research.google.com/assets/colab-badge.svg\" alt=\"Open In Colab\"/></a>"
      ]
    },
    {
      "cell_type": "code",
      "metadata": {
        "colab": {
          "base_uri": "https://localhost:8080/"
        },
        "id": "pQ7Y7dmCLMJ4",
        "outputId": "a1aa38c4-1524-45df-a5e5-ecc58846b65d"
      },
      "source": [
        "import nltk\n",
        "nltk.download('punkt')\n",
        "nltk.download('stopwords')"
      ],
      "execution_count": null,
      "outputs": [
        {
          "output_type": "stream",
          "text": [
            "[nltk_data] Downloading package punkt to /root/nltk_data...\n",
            "[nltk_data]   Unzipping tokenizers/punkt.zip.\n",
            "[nltk_data] Downloading package stopwords to /root/nltk_data...\n",
            "[nltk_data]   Unzipping corpora/stopwords.zip.\n"
          ],
          "name": "stdout"
        },
        {
          "output_type": "execute_result",
          "data": {
            "text/plain": [
              "True"
            ]
          },
          "metadata": {
            "tags": []
          },
          "execution_count": 1
        }
      ]
    },
    {
      "cell_type": "code",
      "metadata": {
        "id": "hOEIMFuRL2CH"
      },
      "source": [
        "from nltk.stem import PorterStemmer\n",
        "from nltk.corpus import stopwords"
      ],
      "execution_count": null,
      "outputs": []
    },
    {
      "cell_type": "code",
      "metadata": {
        "id": "eOGntAlaLcfH"
      },
      "source": [
        "paragraph=\"\"\"Firebase evolved from Envolve, a prior startup founded by James Tamplin and Andrew Lee in 2011. Envolve provided developers an API\n",
        " that enables the integration of online chat functionality into their websites. After releasing the chat service, Tamplin and Lee found that it \n",
        " was being used to pass application data that were not chat messages. Developers were using Envolve to sync application data such as game state \n",
        " in real time across their users. Tamplin and Lee decided to separate the chat system and the real-time architecture that powered it.[3] They \n",
        " founded Firebase as a separate company in September 2011[4] and it launched to the public in April 2012.[5]\n",
        "Firebase's first product was the Firebase Realtime Database, an API that synchronizes application data across\n",
        " iOS, Android, and Web devices, and stores it on Firebase's cloud. The product assists software developers in building\n",
        "  real-time, collaborative applications.\"\"\""
      ],
      "execution_count": null,
      "outputs": []
    },
    {
      "cell_type": "code",
      "metadata": {
        "id": "4apI7_WVNM9d"
      },
      "source": [
        "stemming=PorterStemmer()"
      ],
      "execution_count": null,
      "outputs": []
    },
    {
      "cell_type": "code",
      "metadata": {
        "id": "WldTAW6HLrli"
      },
      "source": [
        "stop=stopwords.words('english')\n",
        "stop"
      ],
      "execution_count": null,
      "outputs": []
    },
    {
      "cell_type": "code",
      "metadata": {
        "id": "7jmuKYXfPj-U"
      },
      "source": [
        "words=nltk.word_tokenize(paragraph)"
      ],
      "execution_count": null,
      "outputs": []
    },
    {
      "cell_type": "code",
      "metadata": {
        "colab": {
          "base_uri": "https://localhost:8080/"
        },
        "id": "2DSYwAZoPrhM",
        "outputId": "cfc6df4c-104f-40df-e66c-2b54bebec2cb"
      },
      "source": [
        "final=[]\n",
        "for w in words:\n",
        "  if w not in stop:\n",
        "    w=stemming.stem(w)\n",
        "    final.append(w)\n",
        "print(words)    \n",
        "print(final)"
      ],
      "execution_count": null,
      "outputs": [
        {
          "output_type": "stream",
          "text": [
            "['Firebase', 'evolved', 'from', 'Envolve', ',', 'a', 'prior', 'startup', 'founded', 'by', 'James', 'Tamplin', 'and', 'Andrew', 'Lee', 'in', '2011', '.', 'Envolve', 'provided', 'developers', 'an', 'API', 'that', 'enables', 'the', 'integration', 'of', 'online', 'chat', 'functionality', 'into', 'their', 'websites', '.', 'After', 'releasing', 'the', 'chat', 'service', ',', 'Tamplin', 'and', 'Lee', 'found', 'that', 'it', 'was', 'being', 'used', 'to', 'pass', 'application', 'data', 'that', 'were', 'not', 'chat', 'messages', '.', 'Developers', 'were', 'using', 'Envolve', 'to', 'sync', 'application', 'data', 'such', 'as', 'game', 'state', 'in', 'real', 'time', 'across', 'their', 'users', '.', 'Tamplin', 'and', 'Lee', 'decided', 'to', 'separate', 'the', 'chat', 'system', 'and', 'the', 'real-time', 'architecture', 'that', 'powered', 'it', '.', '[', '3', ']', 'They', 'founded', 'Firebase', 'as', 'a', 'separate', 'company', 'in', 'September', '2011', '[', '4', ']', 'and', 'it', 'launched', 'to', 'the', 'public', 'in', 'April', '2012', '.', '[', '5', ']', 'Firebase', \"'s\", 'first', 'product', 'was', 'the', 'Firebase', 'Realtime', 'Database', ',', 'an', 'API', 'that', 'synchronizes', 'application', 'data', 'across', 'iOS', ',', 'Android', ',', 'and', 'Web', 'devices', ',', 'and', 'stores', 'it', 'on', 'Firebase', \"'s\", 'cloud', '.', 'The', 'product', 'assists', 'software', 'developers', 'in', 'building', 'real-time', ',', 'collaborative', 'applications', '.']\n",
            "['firebas', 'evolv', 'envolv', ',', 'prior', 'startup', 'found', 'jame', 'tamplin', 'andrew', 'lee', '2011', '.', 'envolv', 'provid', 'develop', 'api', 'enabl', 'integr', 'onlin', 'chat', 'function', 'websit', '.', 'after', 'releas', 'chat', 'servic', ',', 'tamplin', 'lee', 'found', 'use', 'pass', 'applic', 'data', 'chat', 'messag', '.', 'develop', 'use', 'envolv', 'sync', 'applic', 'data', 'game', 'state', 'real', 'time', 'across', 'user', '.', 'tamplin', 'lee', 'decid', 'separ', 'chat', 'system', 'real-tim', 'architectur', 'power', '.', '[', '3', ']', 'they', 'found', 'firebas', 'separ', 'compani', 'septemb', '2011', '[', '4', ']', 'launch', 'public', 'april', '2012', '.', '[', '5', ']', 'firebas', \"'s\", 'first', 'product', 'firebas', 'realtim', 'databas', ',', 'api', 'synchron', 'applic', 'data', 'across', 'io', ',', 'android', ',', 'web', 'devic', ',', 'store', 'firebas', \"'s\", 'cloud', '.', 'the', 'product', 'assist', 'softwar', 'develop', 'build', 'real-tim', ',', 'collabor', 'applic', '.']\n"
          ],
          "name": "stdout"
        }
      ]
    }
  ]
}